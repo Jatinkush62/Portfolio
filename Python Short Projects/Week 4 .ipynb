{
 "cells": [
  {
   "cell_type": "markdown",
   "id": "8f589f9d",
   "metadata": {},
   "source": [
    "### Exercise 1 "
   ]
  },
  {
   "cell_type": "markdown",
   "id": "76141783",
   "metadata": {},
   "source": [
    "**Write a basic calculator capable of add(), divide(), subtract(), multiply() functions**"
   ]
  },
  {
   "cell_type": "code",
   "execution_count": 10,
   "id": "c4870055",
   "metadata": {},
   "outputs": [
    {
     "name": "stdout",
     "output_type": "stream",
     "text": [
      "Addition: 39\n",
      "Subtraction: 21\n",
      "Multiplication: 270\n",
      "Division: 3.3333333333333335\n"
     ]
    }
   ],
   "source": [
    "def add(x, y):\n",
    "    return x + y\n",
    "\n",
    "def subtract(x, y):\n",
    "    return x - y\n",
    "\n",
    "def multiply(x, y):\n",
    "    return x * y\n",
    "\n",
    "def divide(x, y):\n",
    "    return x / y\n",
    "\n",
    "num1 = 30\n",
    "num2 = 9\n",
    "\n",
    "print(\"Addition:\", add(num1, num2))\n",
    "print(\"Subtraction:\", subtract(num1, num2))\n",
    "print(\"Multiplication:\", multiply(num1, num2))\n",
    "print(\"Division:\", divide(num1, num2))\n"
   ]
  },
  {
   "cell_type": "markdown",
   "id": "a5a25491",
   "metadata": {},
   "source": [
    "## Exercise 2 "
   ]
  },
  {
   "cell_type": "markdown",
   "id": "c1f8a367",
   "metadata": {},
   "source": [
    "**Write a code capable of calculating the factorial of any given number. Use Python\n",
    "functions**"
   ]
  },
  {
   "cell_type": "code",
   "execution_count": 11,
   "id": "95ef6c5c",
   "metadata": {},
   "outputs": [
    {
     "name": "stdout",
     "output_type": "stream",
     "text": [
      "Enter a number: 65\n",
      "The factorial of 65 is 8247650592082470666723170306785496252186258551345437492922123134388955774976000000000000000\n"
     ]
    }
   ],
   "source": [
    "def factorial(n):\n",
    "    if n == 0:\n",
    "        return 1\n",
    "    else:\n",
    "        return n * factorial(n - 1)\n",
    "\n",
    "\n",
    "num = int(input(\"Enter a number: \"))\n",
    "\n",
    "if num < 0:\n",
    "    print(\"Factorial is not defined for negative numbers.\")\n",
    "elif num == 0:\n",
    "    print(\"The factorial of 0 is 1\")\n",
    "else:\n",
    "    result = factorial(num)\n",
    "    print(f\"The factorial of {num} is {result}\")\n"
   ]
  },
  {
   "cell_type": "markdown",
   "id": "81411e00",
   "metadata": {},
   "source": [
    "## Exercise 3 "
   ]
  },
  {
   "cell_type": "markdown",
   "id": "5d704685",
   "metadata": {},
   "source": [
    "**Write a code capable of calculating the first n numbers of the Fibonacci series. Use\n",
    "Python functions.**"
   ]
  },
  {
   "cell_type": "code",
   "execution_count": 19,
   "id": "c5d6b477",
   "metadata": {},
   "outputs": [
    {
     "name": "stdout",
     "output_type": "stream",
     "text": [
      "Enter the number of terms: 66\n",
      "0 1 1 2 3 5 8 13 21 34 55 89 144 233 377 610 987 1597 2584 4181 6765 10946 17711 28657 46368 75025 121393 196418 317811 514229 832040 1346269 2178309 3524578 5702887 9227465 14930352 24157817 39088169 63245986 102334155 165580141 267914296 433494437 701408733 1134903170 1836311903 2971215073 4807526976 7778742049 12586269025 20365011074 32951280099 53316291173 86267571272 139583862445 225851433717 365435296162 591286729879 956722026041 1548008755920 2504730781961 4052739537881 6557470319842 10610209857723 17167680177565 "
     ]
    }
   ],
   "source": [
    "n=int(input(\"Enter the number of terms: \"))\n",
    "a=0 \n",
    "b=1 \n",
    "if n<=0:\n",
    "    print(\"The Output of your input is\",a)\n",
    "else:\n",
    "    print(a,b,end=\" \")\n",
    "    for x in range(2,n):\n",
    "        c=a+b\n",
    "        print(c,end=\" \")\n",
    "        a=b\n",
    "        b=c"
   ]
  },
  {
   "cell_type": "markdown",
   "id": "27a5049c",
   "metadata": {},
   "source": [
    "## Exercise 4"
   ]
  },
  {
   "cell_type": "markdown",
   "id": "3b7d14e5",
   "metadata": {},
   "source": [
    "**Write a code capable of calculating the first n numbers of the Bernoulli series. Use\n",
    "Python functions.**"
   ]
  },
  {
   "cell_type": "code",
   "execution_count": 24,
   "id": "64bc7b4f",
   "metadata": {},
   "outputs": [
    {
     "name": "stdout",
     "output_type": "stream",
     "text": [
      "B( 0) =  1/1\n",
      "B( 1) =  1/2\n",
      "B( 2) =  1/6\n",
      "B( 4) = -1/30\n",
      "B( 6) =  1/42\n",
      "B( 8) = -1/30\n"
     ]
    }
   ],
   "source": [
    "from fractions import Fraction as Fr\n",
    "\n",
    "def bernoulli(n):\n",
    "    A = [0] * (n+1)\n",
    "    for m in range(n+1):\n",
    "        A[m] = Fr(1, m+1)\n",
    "        for j in range(m, 0, -1):\n",
    "          A[j-1] = j*(A[j-1] - A[j])\n",
    "    return A[0] # (which is Bn)\n",
    "\n",
    "bn = [(i, bernoulli(i)) for i in range(10)]\n",
    "bn = [(i, b) for i,b in bn if b]\n",
    "width = max(len(str(b.numerator)) for i,b in bn)\n",
    "for i,b in bn:\n",
    "    print('B(%2i) = %*i/%i' % (i, width, b.numerator, b.denominator))"
   ]
  },
  {
   "cell_type": "markdown",
   "id": "e0f7d6ca",
   "metadata": {},
   "source": [
    "## Exercise 5"
   ]
  },
  {
   "cell_type": "markdown",
   "id": "636be540",
   "metadata": {},
   "source": [
    "**Write a code capable of printing the first 100 prime numbers. Use Python functions.**"
   ]
  },
  {
   "cell_type": "code",
   "execution_count": 46,
   "id": "efc69df3",
   "metadata": {},
   "outputs": [
    {
     "name": "stdout",
     "output_type": "stream",
     "text": [
      "Prime numbers between 1 to 100 are:\n",
      "2\n",
      "3\n",
      "5\n",
      "7\n",
      "11\n",
      "13\n",
      "17\n",
      "19\n",
      "23\n",
      "29\n",
      "31\n",
      "37\n",
      "41\n",
      "43\n",
      "47\n",
      "53\n",
      "59\n",
      "61\n",
      "67\n",
      "71\n",
      "73\n",
      "79\n",
      "83\n",
      "89\n",
      "97\n"
     ]
    }
   ],
   "source": [
    "def getprime100():\n",
    "    print(\"Prime numbers between 1 to 100 are:\")\n",
    "    for x in range(2, 101):\n",
    "        is_prime = True  \n",
    "        for y in range(2, x):\n",
    "            if x % y == 0:\n",
    "                is_prime = False\n",
    "                break\n",
    "        if is_prime:\n",
    "            print(x)\n",
    "\n",
    "getprime100()\n"
   ]
  },
  {
   "cell_type": "code",
   "execution_count": null,
   "id": "ac784cd1",
   "metadata": {},
   "outputs": [],
   "source": []
  },
  {
   "cell_type": "code",
   "execution_count": null,
   "id": "ef95cd8e",
   "metadata": {},
   "outputs": [],
   "source": []
  }
 ],
 "metadata": {
  "kernelspec": {
   "display_name": "Python 3 (ipykernel)",
   "language": "python",
   "name": "python3"
  },
  "language_info": {
   "codemirror_mode": {
    "name": "ipython",
    "version": 3
   },
   "file_extension": ".py",
   "mimetype": "text/x-python",
   "name": "python",
   "nbconvert_exporter": "python",
   "pygments_lexer": "ipython3",
   "version": "3.11.4"
  }
 },
 "nbformat": 4,
 "nbformat_minor": 5
}
