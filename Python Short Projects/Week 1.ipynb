{
 "cells": [
  {
   "cell_type": "markdown",
   "id": "df5a657e",
   "metadata": {},
   "source": [
    "Week 1"
   ]
  },
  {
   "cell_type": "markdown",
   "id": "516b0430",
   "metadata": {},
   "source": [
    "Exercise 1"
   ]
  },
  {
   "cell_type": "markdown",
   "id": "e92489d4",
   "metadata": {},
   "source": [
    "**Accept numbers from a user**\n",
    "\n",
    "**Write a program to accept two numbers from the user and calculate multiplication**"
   ]
  },
  {
   "cell_type": "code",
   "execution_count": 5,
   "id": "6be6495d",
   "metadata": {},
   "outputs": [
    {
     "name": "stdout",
     "output_type": "stream",
     "text": [
      "Enter first number:3\n",
      "Enter second number:4\n",
      "Mulitiplication of two numbers: 12\n"
     ]
    }
   ],
   "source": [
    "num_1=int(input(\"Enter first number:\"))\n",
    "num_2=int(input(\"Enter second number:\"))\n",
    "product= num_1*num_2\n",
    "print(\"Mulitiplication of two numbers:\", product)"
   ]
  },
  {
   "cell_type": "markdown",
   "id": "62916b47",
   "metadata": {},
   "source": [
    "Exercise 2"
   ]
  },
  {
   "cell_type": "markdown",
   "id": "a22ef817",
   "metadata": {},
   "source": [
    "**Display three string “Name”, “Is”, “James” as “Name**Is**James”.\n",
    "Use the print() function to format the given words in the mentioned format. Display the **\n",
    "separator between each string.**"
   ]
  },
  {
   "cell_type": "code",
   "execution_count": 4,
   "id": "0e046805",
   "metadata": {},
   "outputs": [
    {
     "name": "stdout",
     "output_type": "stream",
     "text": [
      "Name**is**James\n"
     ]
    }
   ],
   "source": [
    "Name1=\"Name\"\n",
    "Name2=\"is\"\n",
    "Name3=\"James\"\n",
    "print(Name1,Name2,Name3, sep=\"**\")"
   ]
  },
  {
   "cell_type": "markdown",
   "id": "cd6e1d8f",
   "metadata": {},
   "source": [
    "Exercise 3"
   ]
  },
  {
   "cell_type": "markdown",
   "id": "13828489",
   "metadata": {},
   "source": [
    "**Display float number with 2 decimal places using print().**"
   ]
  },
  {
   "cell_type": "code",
   "execution_count": 3,
   "id": "31706662",
   "metadata": {},
   "outputs": [
    {
     "name": "stdout",
     "output_type": "stream",
     "text": [
      "458.43\n"
     ]
    }
   ],
   "source": [
    "number=458.4334343\n",
    "\n",
    "print(round(number,2))"
   ]
  },
  {
   "cell_type": "code",
   "execution_count": 2,
   "id": "989f0881",
   "metadata": {},
   "outputs": [
    {
     "name": "stdout",
     "output_type": "stream",
     "text": [
      "434.56\n"
     ]
    }
   ],
   "source": [
    "number=434.563456\n",
    "updated_number=format(number,\".2f\")\n",
    "print(updated_number)"
   ]
  },
  {
   "cell_type": "markdown",
   "id": "e8e4b415",
   "metadata": {},
   "source": [
    "Exercise 4"
   ]
  },
  {
   "cell_type": "markdown",
   "id": "2dfaeaab",
   "metadata": {},
   "source": [
    "**Accept any three string from one input() call.**\n",
    "\n",
    "**Write a program to take three names as input from a user in the single input() function call**"
   ]
  },
  {
   "cell_type": "code",
   "execution_count": 7,
   "id": "b0505772",
   "metadata": {},
   "outputs": [
    {
     "name": "stdout",
     "output_type": "stream",
     "text": [
      "Enter three names:Sandy Dhiru Mahesh\n",
      "Enter first name: Sandy\n",
      "Enter second name: Dhiru\n",
      "Enter third name: Mahesh\n"
     ]
    }
   ],
   "source": [
    "names=input(\"Enter three names:\")\n",
    "names_1=names.split()\n",
    "if len(names_1) == 3:\n",
    "    name1,name2,name3=names_1\n",
    "    print(\"Enter first name:\",name1)\n",
    "    print(\"Enter second name:\",name2)\n",
    "    print(\"Enter third name:\",name3)\n",
    "else:\n",
    "    print(\"Enter three names seperated by spaces:\")"
   ]
  },
  {
   "cell_type": "markdown",
   "id": "74f6e9f1",
   "metadata": {},
   "source": [
    "Exercise 5"
   ]
  },
  {
   "cell_type": "markdown",
   "id": "1c1da912",
   "metadata": {},
   "source": [
    "**Calculate the multiplication and sum of two numbers.**\n",
    "\n",
    "**Given two integer numbers return their product only if the product is equal to or lower than 1000,\n",
    "else return their sum.**\n"
   ]
  },
  {
   "cell_type": "code",
   "execution_count": 22,
   "id": "3ceec9e6",
   "metadata": {},
   "outputs": [
    {
     "name": "stdout",
     "output_type": "stream",
     "text": [
      "Enter first number:23\n",
      "Enter second number:34\n",
      "23\n",
      "34\n",
      "782\n"
     ]
    }
   ],
   "source": [
    "number1=int(input(\"Enter first number:\"))\n",
    "number2=int(input(\"Enter second number:\"))\n",
    "add=number1+number2\n",
    "product=number1*number2\n",
    "print(number1)\n",
    "print(number2)\n",
    "if product<=1000:\n",
    "    print(product)\n",
    "    \n",
    "else:\n",
    "    \n",
    "    print(add)\n"
   ]
  },
  {
   "cell_type": "code",
   "execution_count": 23,
   "id": "c840b539",
   "metadata": {},
   "outputs": [
    {
     "name": "stdout",
     "output_type": "stream",
     "text": [
      "Enter first number:12\n",
      "Enter second number:333\n",
      "12\n",
      "333\n",
      "345\n"
     ]
    }
   ],
   "source": [
    "number1=int(input(\"Enter first number:\"))\n",
    "number2=int(input(\"Enter second number:\"))\n",
    "add=number1+number2\n",
    "product=number1*number2\n",
    "print(number1)\n",
    "print(number2)\n",
    "if product<=1000:\n",
    "    print(product)\n",
    "    \n",
    "else:\n",
    "    \n",
    "    print(add)"
   ]
  },
  {
   "cell_type": "markdown",
   "id": "bd9fcca4",
   "metadata": {},
   "source": [
    "Exercise 6"
   ]
  },
  {
   "cell_type": "markdown",
   "id": "b8d990eb",
   "metadata": {},
   "source": [
    "**Print the sum of the current number and the previous number.**\n",
    "\n",
    "**Write a program to iterate the first 10 numbers and in each iteration, print the sum of the current\n",
    "and previous number.**"
   ]
  },
  {
   "cell_type": "code",
   "execution_count": 59,
   "id": "00f994b9",
   "metadata": {},
   "outputs": [
    {
     "name": "stdout",
     "output_type": "stream",
     "text": [
      "Current Number 0 Previous Number 0 is= 0\n",
      "Current Number 1 Previous Number 0 is= 1\n",
      "Current Number 2 Previous Number 1 is= 3\n",
      "Current Number 3 Previous Number 2 is= 5\n",
      "Current Number 4 Previous Number 3 is= 7\n",
      "Current Number 5 Previous Number 4 is= 9\n",
      "Current Number 6 Previous Number 5 is= 11\n",
      "Current Number 7 Previous Number 6 is= 13\n",
      "Current Number 8 Previous Number 7 is= 15\n",
      "Current Number 9 Previous Number 8 is= 17\n"
     ]
    }
   ],
   "source": [
    "num = list(range(10))\n",
    "previousNum = 0\n",
    "for i in num:\n",
    "    sum = previousNum + i\n",
    "    print('Current Number '+ str(i)  +  ' Previous Number ' + str(previousNum)  + ' is= ' + str(sum))\n",
    "    previousNum=i"
   ]
  },
  {
   "cell_type": "markdown",
   "id": "906b5f40",
   "metadata": {},
   "source": [
    "Exercise 7"
   ]
  },
  {
   "cell_type": "markdown",
   "id": "af5a6f52",
   "metadata": {},
   "source": [
    "**Print characters from a string that are present at an even index number.**\n",
    "**Write a program to accept a string from the user and display characters that are present at an even\n",
    "index number. For example, str = \"pynative\" so you should display ‘p’, ‘n’, ‘t’, ‘v’.**\n"
   ]
  },
  {
   "cell_type": "code",
   "execution_count": 49,
   "id": "3d853867",
   "metadata": {},
   "outputs": [
    {
     "name": "stdout",
     "output_type": "stream",
     "text": [
      "s\n",
      "r\n",
      "s\n",
      "v\n",
      "s\n"
     ]
    }
   ],
   "source": [
    "name=\"sureshvish\"\n",
    "for index,  i in enumerate(name):\n",
    "    if (name.index(i))%2==0:\n",
    "        print(i)"
   ]
  },
  {
   "cell_type": "markdown",
   "id": "ecb716e9",
   "metadata": {},
   "source": [
    "Exercise 8"
   ]
  },
  {
   "cell_type": "markdown",
   "id": "21ff5650",
   "metadata": {},
   "source": [
    "**Write a program that calculate and prints John’s monthly net salary:**\n",
    "    \n",
    "**wage = £80 per hour**\n",
    "\n",
    "**Hours = 35 h per week**\n",
    "\n",
    "**Tax = 15%**"
   ]
  },
  {
   "cell_type": "code",
   "execution_count": 53,
   "id": "a1742922",
   "metadata": {},
   "outputs": [
    {
     "name": "stdout",
     "output_type": "stream",
     "text": [
      "John's monthly net salary is £ 9520.0\n"
     ]
    }
   ],
   "source": [
    "\n",
    "hourly_wage = 80  \n",
    "weekly_hours = 35  \n",
    "tax_rate = 0.15  \n",
    "\n",
    "\n",
    "weekly_gross_salary = hourly_wage * weekly_hours\n",
    "\n",
    "\n",
    "monthly_gross_salary = weekly_gross_salary * 4\n",
    "\n",
    "\n",
    "tax_deduction = monthly_gross_salary * tax_rate\n",
    "\n",
    "\n",
    "monthly_net_salary = monthly_gross_salary - tax_deduction\n",
    "\n",
    "\n",
    "print(\"John's monthly net salary is £\", monthly_net_salary)\n"
   ]
  },
  {
   "cell_type": "code",
   "execution_count": null,
   "id": "fd0f9448",
   "metadata": {},
   "outputs": [],
   "source": []
  }
 ],
 "metadata": {
  "kernelspec": {
   "display_name": "Python 3 (ipykernel)",
   "language": "python",
   "name": "python3"
  },
  "language_info": {
   "codemirror_mode": {
    "name": "ipython",
    "version": 3
   },
   "file_extension": ".py",
   "mimetype": "text/x-python",
   "name": "python",
   "nbconvert_exporter": "python",
   "pygments_lexer": "ipython3",
   "version": "3.11.4"
  }
 },
 "nbformat": 4,
 "nbformat_minor": 5
}
