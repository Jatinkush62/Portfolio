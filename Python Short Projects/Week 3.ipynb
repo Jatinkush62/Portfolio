{
 "cells": [
  {
   "cell_type": "markdown",
   "id": "178c4508",
   "metadata": {},
   "source": [
    "Week 3"
   ]
  },
  {
   "cell_type": "markdown",
   "id": "ea90906c",
   "metadata": {},
   "source": [
    "## Exercise 1"
   ]
  },
  {
   "cell_type": "markdown",
   "id": "6db477fa",
   "metadata": {},
   "source": [
    " **You are given a list of integers called numbers. Write a Python program that finds and prints the\n",
    "largest even number from the list. If there are no even numbers in the list, the program should print\n",
    "a message indicating that there are no even numbers.\n",
    "For example, if numbers = [5, 7, 1, 9, 12, 3, 8], the program should print 12 because it is the largest\n",
    "even number in the list**"
   ]
  },
  {
   "cell_type": "code",
   "execution_count": 1,
   "id": "39127c14",
   "metadata": {},
   "outputs": [
    {
     "name": "stdout",
     "output_type": "stream",
     "text": [
      "12\n"
     ]
    }
   ],
   "source": [
    "num=[5,7,1,9,12,3,8]\n",
    "\n",
    "num1=[]\n",
    "for i in num:\n",
    "    if i%2==0:\n",
    "        num1.append(i)\n",
    "print(max(num1))\n",
    "     "
   ]
  },
  {
   "cell_type": "markdown",
   "id": "513d9c94",
   "metadata": {},
   "source": [
    "## Exercise 2"
   ]
  },
  {
   "cell_type": "markdown",
   "id": "a8e6153d",
   "metadata": {},
   "source": [
    "***You are given a list of positive integers called numbers. Write a Python program that finds and\n",
    "prints the sum of all prime numbers in the list. If there are no prime numbers in the list, the program\n",
    "should print a message indicating that there are no prime numbers.\n",
    "For example, if numbers = [1, 3, 5, 6, 8, 9, 11], the program should print 19 because the prime\n",
    "numbers in the list are 3, 5, and 11, and their sum is 19.***"
   ]
  },
  {
   "cell_type": "code",
   "execution_count": 2,
   "id": "f1200034",
   "metadata": {},
   "outputs": [
    {
     "name": "stdout",
     "output_type": "stream",
     "text": [
      "19\n"
     ]
    }
   ],
   "source": [
    "num=[1,3,5,6,8,9,11]\n",
    "\n",
    "num1=[]\n",
    "for n in num:\n",
    "    is_prime=False\n",
    "    if n>=2:\n",
    "        is_prime=True\n",
    "    for i in range(2,n):\n",
    "        if (n%i)==0:\n",
    "            is_prime=False\n",
    "    if is_prime:\n",
    "        num1.append(n)\n",
    "print(sum(num1))\n",
    "        \n",
    "        \n",
    "        \n",
    "    \n",
    "        \n"
   ]
  },
  {
   "cell_type": "code",
   "execution_count": null,
   "id": "7b01b651",
   "metadata": {},
   "outputs": [],
   "source": []
  }
 ],
 "metadata": {
  "kernelspec": {
   "display_name": "Python 3 (ipykernel)",
   "language": "python",
   "name": "python3"
  },
  "language_info": {
   "codemirror_mode": {
    "name": "ipython",
    "version": 3
   },
   "file_extension": ".py",
   "mimetype": "text/x-python",
   "name": "python",
   "nbconvert_exporter": "python",
   "pygments_lexer": "ipython3",
   "version": "3.11.4"
  }
 },
 "nbformat": 4,
 "nbformat_minor": 5
}
