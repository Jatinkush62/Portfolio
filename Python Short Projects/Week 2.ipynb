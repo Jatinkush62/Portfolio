{
 "cells": [
  {
   "cell_type": "markdown",
   "id": "e23707b8",
   "metadata": {},
   "source": [
    "Week 2"
   ]
  },
  {
   "cell_type": "markdown",
   "id": "ae57c741",
   "metadata": {},
   "source": [
    "### Exercise 1"
   ]
  },
  {
   "cell_type": "markdown",
   "id": "11c1df3b",
   "metadata": {},
   "source": [
    "**Write a Python program to calculate the length of a string**"
   ]
  },
  {
   "cell_type": "code",
   "execution_count": 1,
   "id": "40491632",
   "metadata": {},
   "outputs": [
    {
     "name": "stdout",
     "output_type": "stream",
     "text": [
      "length of the string: 7\n"
     ]
    }
   ],
   "source": [
    "Name=\"SANDEEP\"\n",
    "print(\"length of the string:\", len(Name))#use len() to get the length of a string"
   ]
  },
  {
   "cell_type": "markdown",
   "id": "7d9cc5d0",
   "metadata": {},
   "source": [
    "### Exercise 2"
   ]
  },
  {
   "cell_type": "markdown",
   "id": "42744524",
   "metadata": {},
   "source": [
    "**Write a Python program that sums up all the items in a list.**"
   ]
  },
  {
   "cell_type": "code",
   "execution_count": 2,
   "id": "73875476",
   "metadata": {},
   "outputs": [
    {
     "name": "stdout",
     "output_type": "stream",
     "text": [
      "Sum up all the items: 27\n"
     ]
    }
   ],
   "source": [
    "list1=[2,3,4,5,6,7]\n",
    "print(\"Sum up all the items:\", sum(list1))#use sum() to get the sum of all the items in a list"
   ]
  },
  {
   "cell_type": "markdown",
   "id": "51b76815",
   "metadata": {},
   "source": [
    "### Exercise 3"
   ]
  },
  {
   "cell_type": "markdown",
   "id": "6e9a3c94",
   "metadata": {},
   "source": [
    "**Write a Python program to get the largest number from a list.**"
   ]
  },
  {
   "cell_type": "code",
   "execution_count": 3,
   "id": "a7d60c96",
   "metadata": {},
   "outputs": [
    {
     "name": "stdout",
     "output_type": "stream",
     "text": [
      "largesrt number; 9\n"
     ]
    }
   ],
   "source": [
    "list2=[1,2,3,4,5,6,7,8,9]\n",
    "\n",
    "print(\"largesrt number;\",max(list2)) #use max() to get the largest number from a list"
   ]
  },
  {
   "cell_type": "markdown",
   "id": "bd00a795",
   "metadata": {},
   "source": [
    "### Exercise 4"
   ]
  },
  {
   "cell_type": "markdown",
   "id": "7587749f",
   "metadata": {},
   "source": [
    "**Write a Python program to get a string from a given string where all occurrences of its\n",
    "first char have been changed to '$', except the first char itself**\n",
    "\n",
    "**Sample String: 'restart'**\n",
    "    \n",
    "**Expected Result: 'resta$t'**"
   ]
  },
  {
   "cell_type": "code",
   "execution_count": 6,
   "id": "6924028b",
   "metadata": {},
   "outputs": [
    {
     "name": "stdout",
     "output_type": "stream",
     "text": [
      "sandyvish\n",
      "sandyvi$h\n"
     ]
    }
   ],
   "source": [
    "sandy=\"sandyvish\"\n",
    "\n",
    "print(sandy)\n",
    "\n",
    "s='$'\n",
    "\n",
    "new = sandy[0] + sandy[1:].replace(sandy[0], s)\n",
    "\n",
    "print(str(new))\n",
    "\n",
    "\n"
   ]
  },
  {
   "cell_type": "markdown",
   "id": "3bf91e6a",
   "metadata": {},
   "source": [
    "### Exercise 5"
   ]
  },
  {
   "cell_type": "markdown",
   "id": "a3d690bd",
   "metadata": {},
   "source": [
    "**Write a Python program to remove duplicates from a list.**"
   ]
  },
  {
   "cell_type": "code",
   "execution_count": 3,
   "id": "c7584404",
   "metadata": {},
   "outputs": [
    {
     "name": "stdout",
     "output_type": "stream",
     "text": [
      "[1, 2, 3, 4, 5, 6, 7, 8, 9]\n"
     ]
    }
   ],
   "source": [
    "lis = [1,2,2,3,4,5,5,4,5,6,7,8,8,9]\n",
    "\n",
    "updated_lis = [x for i, x in enumerate(lis) if x not in lis[:i]] #enumerate(lis) gives us both the index (i) and the value (x) of each element\n",
    " \n",
    "    \n",
    "print(updated_lis)\n"
   ]
  },
  {
   "cell_type": "markdown",
   "id": "8ac15ed6",
   "metadata": {},
   "source": [
    "### Exercise 6"
   ]
  },
  {
   "cell_type": "markdown",
   "id": "59f766ef",
   "metadata": {},
   "source": [
    "**list all Python data types and provide an example of each**"
   ]
  },
  {
   "cell_type": "code",
   "execution_count": 12,
   "id": "4381ec21",
   "metadata": {},
   "outputs": [
    {
     "name": "stdout",
     "output_type": "stream",
     "text": [
      "2\n",
      "<class 'int'>\n",
      "2.2\n",
      "<class 'float'>\n",
      "sandy\n",
      "<class 'str'>\n",
      "(2+3j)\n",
      "<class 'complex'>\n",
      "[2, 3, 4, 5]\n",
      "<class 'list'>\n",
      "(1, 2, 3, 4)\n",
      "<class 'tuple'>\n",
      "{2: 3, 3: 6, 4: 8}\n",
      "<class 'dict'>\n",
      "True\n",
      "<class 'bool'>\n"
     ]
    }
   ],
   "source": [
    "a=2\n",
    "print(a)\n",
    "print(type(a))\n",
    "\n",
    "b=2.2\n",
    "print(b)\n",
    "print(type(b))\n",
    "\n",
    "c=\"sandy\"\n",
    "print(c)\n",
    "print(type(c))\n",
    "\n",
    "comples=2+3j\n",
    "print(comples)\n",
    "print(type(comples))\n",
    "\n",
    "e=[2,3,4,5]\n",
    "print(e)\n",
    "print(type(e))\n",
    "\n",
    "f=(1,2,3,4)\n",
    "print(f)\n",
    "print(type(f))\n",
    "\n",
    "g={2:3,3:6,4:8}\n",
    "print(g)\n",
    "print(type(g))\n",
    "\n",
    "h=True\n",
    "print(h)\n",
    "print(type(h))\n",
    "\n",
    "\n"
   ]
  }
 ],
 "metadata": {
  "kernelspec": {
   "display_name": "Python 3 (ipykernel)",
   "language": "python",
   "name": "python3"
  },
  "language_info": {
   "codemirror_mode": {
    "name": "ipython",
    "version": 3
   },
   "file_extension": ".py",
   "mimetype": "text/x-python",
   "name": "python",
   "nbconvert_exporter": "python",
   "pygments_lexer": "ipython3",
   "version": "3.11.4"
  }
 },
 "nbformat": 4,
 "nbformat_minor": 5
}
