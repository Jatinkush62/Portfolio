{
 "cells": [
  {
   "cell_type": "markdown",
   "id": "46b8da89",
   "metadata": {},
   "source": [
    "# Week 11"
   ]
  },
  {
   "cell_type": "markdown",
   "id": "5a4d1863",
   "metadata": {},
   "source": [
    "## write a class called Calculator that emulates the basic functions of a scientific calculator including:"
   ]
  },
  {
   "cell_type": "code",
   "execution_count": 3,
   "id": "08acfcd9",
   "metadata": {},
   "outputs": [
    {
     "name": "stdout",
     "output_type": "stream",
     "text": [
      "Current value: 1.8257418583505538\n"
     ]
    }
   ],
   "source": [
    "import math\n",
    "\n",
    "class Calculator:\n",
    "    def __init__(self):\n",
    "        self.value = 0.0\n",
    "\n",
    "    def add(self, val):\n",
    "        self.value += val\n",
    "\n",
    "    def subtract(self, val):\n",
    "        self.value -= val\n",
    "\n",
    "    def multiply(self, val):\n",
    "        self.value *= val\n",
    "\n",
    "    def divide(self, val):\n",
    "        if val != 0:\n",
    "            self.value /= val\n",
    "        else:\n",
    "            print(\"Error: Division by zero\")\n",
    "\n",
    "    def sqr(self):\n",
    "        self.value **= 2\n",
    "\n",
    "    def sqrt(self):\n",
    "        if self.value >= 0:\n",
    "            self.value = math.sqrt(self.value)\n",
    "        else:\n",
    "            print(\"Error: Cannot calculate square root of a negative number\")\n",
    "\n",
    "    def power(self, val):\n",
    "        self.value **= val\n",
    "\n",
    "    def sin(self):\n",
    "        self.value = math.sin(math.radians(self.value))\n",
    "\n",
    "    def cos(self):\n",
    "        self.value = math.cos(math.radians(self.value))\n",
    "\n",
    "    def reciprocal(self):\n",
    "        if self.value != 0:\n",
    "            self.value = 1 / self.value\n",
    "        else:\n",
    "            print(\"Error: Reciprocal of zero is undefined\")\n",
    "\n",
    "    def clear(self):\n",
    "        self.value = 0.0\n",
    "\n",
    "    def get_value(self):\n",
    "        return self.value\n",
    "\n",
    "# Example usage:\n",
    "calc = Calculator()\n",
    "calc.add(5)\n",
    "calc.multiply(2)\n",
    "calc.divide(3)\n",
    "calc.sqrt()\n",
    "print(\"Current value:\", calc.get_value())\n"
   ]
  },
  {
   "cell_type": "code",
   "execution_count": null,
   "id": "0d29e670",
   "metadata": {},
   "outputs": [],
   "source": []
  }
 ],
 "metadata": {
  "kernelspec": {
   "display_name": "Python 3 (ipykernel)",
   "language": "python",
   "name": "python3"
  },
  "language_info": {
   "codemirror_mode": {
    "name": "ipython",
    "version": 3
   },
   "file_extension": ".py",
   "mimetype": "text/x-python",
   "name": "python",
   "nbconvert_exporter": "python",
   "pygments_lexer": "ipython3",
   "version": "3.11.3"
  }
 },
 "nbformat": 4,
 "nbformat_minor": 5
}
