{
 "cells": [
  {
   "cell_type": "markdown",
   "id": "9d9e3ef8",
   "metadata": {},
   "source": [
    " ## Week 6"
   ]
  },
  {
   "cell_type": "markdown",
   "id": "068e3707",
   "metadata": {},
   "source": [
    "## Exercise 1 "
   ]
  },
  {
   "cell_type": "markdown",
   "id": "7fc397a7",
   "metadata": {},
   "source": [
    "* Question a"
   ]
  },
  {
   "cell_type": "markdown",
   "id": "8eb7d036",
   "metadata": {},
   "source": [
    "## Generate a 10 x 3 array of random numbers (in range [0,1])"
   ]
  },
  {
   "cell_type": "code",
   "execution_count": 1,
   "id": "dfd17ace",
   "metadata": {},
   "outputs": [],
   "source": [
    "import numpy as np"
   ]
  },
  {
   "cell_type": "code",
   "execution_count": 6,
   "id": "06fa2a7e",
   "metadata": {},
   "outputs": [
    {
     "name": "stdout",
     "output_type": "stream",
     "text": [
      "[[0.90730658 0.597464   0.45766869]\n",
      " [0.87629888 0.36250432 0.12996004]\n",
      " [0.71142544 0.53413201 0.29629219]\n",
      " [0.95720179 0.6616406  0.0084852 ]\n",
      " [0.24332746 0.40955234 0.9356977 ]\n",
      " [0.49350768 0.77668851 0.31875325]\n",
      " [0.71447093 0.96983696 0.7452767 ]\n",
      " [0.32041974 0.53697114 0.93709155]\n",
      " [0.44268277 0.54998181 0.68029052]\n",
      " [0.2445674  0.82261844 0.61171595]]\n"
     ]
    }
   ],
   "source": [
    "x=np.random.rand(10,3)\n",
    "print(x)"
   ]
  },
  {
   "cell_type": "markdown",
   "id": "cfc76a4b",
   "metadata": {},
   "source": [
    " ## Each element, compute the distance to 0.5"
   ]
  },
  {
   "cell_type": "code",
   "execution_count": 20,
   "id": "19410b57",
   "metadata": {},
   "outputs": [
    {
     "name": "stdout",
     "output_type": "stream",
     "text": [
      "Distance between each element to 0.5 [[0.40730658 0.097464   0.04233131]\n",
      " [0.37629888 0.13749568 0.37003996]\n",
      " [0.21142544 0.03413201 0.20370781]\n",
      " [0.45720179 0.1616406  0.4915148 ]\n",
      " [0.25667254 0.09044766 0.4356977 ]\n",
      " [0.00649232 0.27668851 0.18124675]\n",
      " [0.21447093 0.46983696 0.2452767 ]\n",
      " [0.17958026 0.03697114 0.43709155]\n",
      " [0.05731723 0.04998181 0.18029052]\n",
      " [0.2554326  0.32261844 0.11171595]]\n"
     ]
    }
   ],
   "source": [
    "distance=np.abs(x-0.5) # Used abs function to avoid negative sign\n",
    "print(\"Distance between each element to 0.5\", distance)\n"
   ]
  },
  {
   "cell_type": "markdown",
   "id": "04dfeaeb",
   "metadata": {},
   "source": [
    "## Return the indices that would sort an array (closest to farthest from 0.5 – horizontally)"
   ]
  },
  {
   "cell_type": "code",
   "execution_count": 24,
   "id": "68fdae9d",
   "metadata": {},
   "outputs": [
    {
     "name": "stdout",
     "output_type": "stream",
     "text": [
      "[[2 1 0]\n",
      " [1 2 0]\n",
      " [1 2 0]\n",
      " [1 0 2]\n",
      " [1 0 2]\n",
      " [0 2 1]\n",
      " [0 2 1]\n",
      " [1 0 2]\n",
      " [1 0 2]\n",
      " [2 0 1]]\n"
     ]
    }
   ],
   "source": [
    "sortes_array=np.argsort(distance, axis=1)\n",
    "print(sortes_array)"
   ]
  },
  {
   "cell_type": "markdown",
   "id": "702a6e12",
   "metadata": {},
   "source": [
    "## For each row, we are only interested in the column that is closest to 0.5 so get rid of the\n",
    "## other 2 numbers in each row. You will end up with an array of 10 elements. (Numbers are\n",
    "## element positions)"
   ]
  },
  {
   "cell_type": "code",
   "execution_count": 30,
   "id": "601bca1e",
   "metadata": {},
   "outputs": [
    {
     "name": "stdout",
     "output_type": "stream",
     "text": [
      " Indices of a Column that is closest to 0.5 avoiding two other numbers [2 1 1 1 1 0 0 1 1 2]\n"
     ]
    }
   ],
   "source": [
    "closest_indices=sortes_array[:,0]\n"
   ]
  },
  {
   "cell_type": "code",
   "execution_count": 32,
   "id": "3940056d",
   "metadata": {},
   "outputs": [
    {
     "data": {
      "text/plain": [
       "[0.4576686854030091,\n",
       " 0.3625043172868677,\n",
       " 0.5341320077355297,\n",
       " 0.6616405987809346,\n",
       " 0.40955234175293664,\n",
       " 0.4935076761874784,\n",
       " 0.7144709285931532,\n",
       " 0.5369711406064185,\n",
       " 0.5499818091281466,\n",
       " 0.611715947917132]"
      ]
     },
     "execution_count": 32,
     "metadata": {},
     "output_type": "execute_result"
    }
   ],
   "source": [
    "[x[i][closest_indices[i]] for i in range(x.shape[0])]\n"
   ]
  },
  {
   "cell_type": "markdown",
   "id": "27d7b487",
   "metadata": {},
   "source": [
    "## For each row, extract the element value that is closest to 0.5"
   ]
  },
  {
   "cell_type": "code",
   "execution_count": 33,
   "id": "73a995fe",
   "metadata": {},
   "outputs": [
    {
     "data": {
      "text/plain": [
       "[0.4576686854030091, 0.3625043172868677, 0.5341320077355297]"
      ]
     },
     "execution_count": 33,
     "metadata": {},
     "output_type": "execute_result"
    }
   ],
   "source": [
    "[x[i][closest_indices[i]] for i in range(x.shape[1])]"
   ]
  },
  {
   "cell_type": "markdown",
   "id": "f6f95180",
   "metadata": {},
   "source": [
    "## Exercise 2"
   ]
  },
  {
   "cell_type": "markdown",
   "id": "ab0c8555",
   "metadata": {},
   "source": [
    "## From the array [5,4,6,10,24,89,45,43,46,99,100]extract all the numbers"
   ]
  },
  {
   "cell_type": "markdown",
   "id": "5e321dd5",
   "metadata": {},
   "source": [
    "# 1. which are not divisible by 3"
   ]
  },
  {
   "cell_type": "code",
   "execution_count": 42,
   "id": "0f294ef3",
   "metadata": {},
   "outputs": [
    {
     "name": "stdout",
     "output_type": "stream",
     "text": [
      "Numbers which are not divisible by 3: [  5   4  10  89  43  46 100]\n"
     ]
    }
   ],
   "source": [
    "y= np.array([5,4,6,10,24,89,45,43,46,99,100])\n",
    "dv=y[y%3!=0]\n",
    "print(\"Numbers which are not divisible by 3:\",dv)\n"
   ]
  },
  {
   "cell_type": "markdown",
   "id": "1be94c0a",
   "metadata": {},
   "source": [
    " # 2.which are divisible by 5"
   ]
  },
  {
   "cell_type": "code",
   "execution_count": 43,
   "id": "ae8c7bad",
   "metadata": {},
   "outputs": [
    {
     "name": "stdout",
     "output_type": "stream",
     "text": [
      "Numbers which are divisible by 5: [  5  10  45 100]\n"
     ]
    }
   ],
   "source": [
    "y= np.array([5,4,6,10,24,89,45,43,46,99,100])\n",
    "dv=y[y%5==0]\n",
    "print(\"Numbers which are divisible by 5:\",dv)"
   ]
  },
  {
   "cell_type": "markdown",
   "id": "cf1c5e87",
   "metadata": {},
   "source": [
    "# 3.which are divisible by 3 and 5"
   ]
  },
  {
   "cell_type": "code",
   "execution_count": 51,
   "id": "4e843df1",
   "metadata": {},
   "outputs": [
    {
     "name": "stdout",
     "output_type": "stream",
     "text": [
      "Numbers which are divisible by 3and 5: [45]\n"
     ]
    }
   ],
   "source": [
    "y= np.array([5,4,6,10,24,89,45,43,46,99,100])\n",
    "dv=y[(y%3==0) & (y%5==0)]\n",
    "print(\"Numbers which are divisible by 3and 5:\",dv)\n"
   ]
  },
  {
   "cell_type": "markdown",
   "id": "c01e46f8",
   "metadata": {},
   "source": [
    "# 4.which are divisible by 3 and set them to 42"
   ]
  },
  {
   "cell_type": "code",
   "execution_count": 58,
   "id": "0b447070",
   "metadata": {},
   "outputs": [
    {
     "name": "stdout",
     "output_type": "stream",
     "text": [
      "Numbers which are  divisible by 3: [ 6 24 45 99]\n"
     ]
    }
   ],
   "source": [
    "y= np.array([5,4,6,10,24,89,45,43,46,99,100])\n",
    "dv=y[y%3==0]\n",
    "print(\"Numbers which are  divisible by 3:\",dv)"
   ]
  },
  {
   "cell_type": "markdown",
   "id": "f3e2cb98",
   "metadata": {},
   "source": [
    "### Exercise 3"
   ]
  },
  {
   "cell_type": "markdown",
   "id": "35611ba1",
   "metadata": {},
   "source": [
    "***Calculate the prime numbers between 0 and 100 by using a Boolean array.\n",
    "Calculate the first 100 prime numbers***"
   ]
  },
  {
   "cell_type": "code",
   "execution_count": 1,
   "id": "aac09d37",
   "metadata": {},
   "outputs": [
    {
     "name": "stdout",
     "output_type": "stream",
     "text": [
      "(array([ 2,  3,  5,  7, 11, 13, 17, 19, 23, 29, 31, 37, 41, 43, 47, 53, 59,\n",
      "       61, 67, 71, 73, 79, 83, 89, 97], dtype=int64),)\n"
     ]
    }
   ],
   "source": [
    "import numpy as np\n",
    "\n",
    "is_prime = np.ones((100,), dtype=bool)\n",
    "\n",
    "# Cross out 0 and 1 which are not primes:\n",
    "is_prime[:2] = 0\n",
    "\n",
    "# cross out its higher multiples (sieve of Eratosthenes):\n",
    "nmax = int(np.sqrt(len(is_prime)))\n",
    "for i in range(2, nmax):\n",
    "    is_prime[2*i::i] = False\n",
    "\n",
    "print(np.nonzero(is_prime))"
   ]
  },
  {
   "cell_type": "code",
   "execution_count": null,
   "id": "9a7c39dd",
   "metadata": {},
   "outputs": [],
   "source": [
    "\n"
   ]
  }
 ],
 "metadata": {
  "kernelspec": {
   "display_name": "Python 3 (ipykernel)",
   "language": "python",
   "name": "python3"
  },
  "language_info": {
   "codemirror_mode": {
    "name": "ipython",
    "version": 3
   },
   "file_extension": ".py",
   "mimetype": "text/x-python",
   "name": "python",
   "nbconvert_exporter": "python",
   "pygments_lexer": "ipython3",
   "version": "3.11.4"
  }
 },
 "nbformat": 4,
 "nbformat_minor": 5
}
