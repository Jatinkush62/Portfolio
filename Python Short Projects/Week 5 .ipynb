{
 "cells": [
  {
   "cell_type": "markdown",
   "id": "74899bdd",
   "metadata": {},
   "source": [
    "## Week 5"
   ]
  },
  {
   "cell_type": "markdown",
   "id": "dfcc5455",
   "metadata": {},
   "source": [
    "Exercise 1"
   ]
  },
  {
   "cell_type": "code",
   "execution_count": 1,
   "id": "55912aa3",
   "metadata": {},
   "outputs": [],
   "source": [
    "import numpy as np"
   ]
  },
  {
   "cell_type": "code",
   "execution_count": 2,
   "id": "8f6202c2",
   "metadata": {},
   "outputs": [],
   "source": [
    "arr=np.array([[3,6,9,12],[15,18,21,24],[27,30,33,36],[39,42,45,48],[51,54,57,60]])"
   ]
  },
  {
   "cell_type": "code",
   "execution_count": 3,
   "id": "45cb8ffb",
   "metadata": {},
   "outputs": [
    {
     "data": {
      "text/plain": [
       "array([[ 3,  6,  9, 12],\n",
       "       [15, 18, 21, 24],\n",
       "       [27, 30, 33, 36],\n",
       "       [39, 42, 45, 48],\n",
       "       [51, 54, 57, 60]])"
      ]
     },
     "execution_count": 3,
     "metadata": {},
     "output_type": "execute_result"
    }
   ],
   "source": [
    "arr.reshape(5,4)"
   ]
  },
  {
   "cell_type": "code",
   "execution_count": 4,
   "id": "28298a1f",
   "metadata": {},
   "outputs": [
    {
     "data": {
      "text/plain": [
       "array([[ 6, 12],\n",
       "       [30, 36],\n",
       "       [54, 60]])"
      ]
     },
     "execution_count": 4,
     "metadata": {},
     "output_type": "execute_result"
    }
   ],
   "source": [
    "arr[0::2,1::2]"
   ]
  },
  {
   "cell_type": "markdown",
   "id": "e4f6193b",
   "metadata": {},
   "source": [
    "### Exercise 2"
   ]
  },
  {
   "cell_type": "markdown",
   "id": "2b93ae31",
   "metadata": {},
   "source": [
    "**Create a result array by adding the following two NumPy arrays. Next, modify the result\n",
    "array by calculating the square of each element.**"
   ]
  },
  {
   "cell_type": "code",
   "execution_count": 6,
   "id": "ea106af5",
   "metadata": {},
   "outputs": [],
   "source": [
    "arr1=np.array([[2,4,5,6],[7,8,9,12]])\n",
    "arr2=np.array([[3,6,5,7],[7,8,4,7]])"
   ]
  },
  {
   "cell_type": "code",
   "execution_count": 7,
   "id": "aea6b56f",
   "metadata": {},
   "outputs": [],
   "source": [
    "arr3=arr1+arr2"
   ]
  },
  {
   "cell_type": "code",
   "execution_count": 8,
   "id": "a4979648",
   "metadata": {},
   "outputs": [
    {
     "data": {
      "text/plain": [
       "array([[ 5, 10, 10, 13],\n",
       "       [14, 16, 13, 19]])"
      ]
     },
     "execution_count": 8,
     "metadata": {},
     "output_type": "execute_result"
    }
   ],
   "source": [
    "arr3"
   ]
  },
  {
   "cell_type": "code",
   "execution_count": 9,
   "id": "7ae28c62",
   "metadata": {},
   "outputs": [
    {
     "data": {
      "text/plain": [
       "array([[ 25, 100, 100, 169],\n",
       "       [196, 256, 169, 361]])"
      ]
     },
     "execution_count": 9,
     "metadata": {},
     "output_type": "execute_result"
    }
   ],
   "source": [
    "np.square(arr3)"
   ]
  },
  {
   "cell_type": "code",
   "execution_count": 17,
   "id": "fef2dd27",
   "metadata": {},
   "outputs": [
    {
     "data": {
      "text/plain": [
       "array([[ 5, 10, 10, 13],\n",
       "       [14, 16, 13, 19]])"
      ]
     },
     "execution_count": 17,
     "metadata": {},
     "output_type": "execute_result"
    }
   ],
   "source": [
    "result=np.add(arr1,arr2)\n",
    "result"
   ]
  },
  {
   "cell_type": "code",
   "execution_count": 15,
   "id": "b3505e21",
   "metadata": {},
   "outputs": [
    {
     "data": {
      "text/plain": [
       "array([[ 25, 100, 100, 169],\n",
       "       [196, 256, 169, 361]])"
      ]
     },
     "execution_count": 15,
     "metadata": {},
     "output_type": "execute_result"
    }
   ],
   "source": [
    "np.square(result)"
   ]
  },
  {
   "cell_type": "markdown",
   "id": "8d72ea68",
   "metadata": {},
   "source": [
    "## Exercise 3"
   ]
  },
  {
   "cell_type": "markdown",
   "id": "446314cc",
   "metadata": {},
   "source": [
    "## Delete the second column from a given array and insert the following new column in its\n",
    "## place"
   ]
  },
  {
   "cell_type": "code",
   "execution_count": 37,
   "id": "22218ce7",
   "metadata": {},
   "outputs": [
    {
     "name": "stdout",
     "output_type": "stream",
     "text": [
      "Original array:\n",
      "[[2 4 5]\n",
      " [7 8 9]\n",
      " [4 5 6]]\n",
      "\n",
      "Deleting second column:\n",
      "[[2 5]\n",
      " [7 9]\n",
      " [4 6]]\n",
      "\n",
      "Inserting new column:\n",
      "[[2 3 5]\n",
      " [7 7 9]\n",
      " [4 9 6]]\n",
      "\n"
     ]
    }
   ],
   "source": [
    "ar=np.array([[2,4,5],[7,8,9],[4,5,6]])\n",
    "newar=np.array([[3,7,9]])\n",
    "print(\"Original array:\")\n",
    "print(ar)\n",
    "print()\n",
    "ar1=ar[::,0::2]\n",
    "print(\"Deleting second column:\")\n",
    "print(ar1)\n",
    "print()\n",
    "\n",
    "ar2=np.insert(ar1,1,newar,axis=1)\n",
    "print(\"Inserting new column:\")\n",
    "print(ar2)\n",
    "print()\n"
   ]
  },
  {
   "cell_type": "code",
   "execution_count": 39,
   "id": "439f0581",
   "metadata": {},
   "outputs": [
    {
     "name": "stdout",
     "output_type": "stream",
     "text": [
      "Original array:\n",
      "[[2 4 5]\n",
      " [7 8 9]\n",
      " [4 5 6]]\n",
      "\n",
      "Deleting second column:\n",
      "[[2 5]\n",
      " [7 9]\n",
      " [4 6]]\n",
      "\n",
      "Inserting new column:\n",
      "[[2 3 5]\n",
      " [7 7 9]\n",
      " [4 9 6]]\n",
      "\n"
     ]
    }
   ],
   "source": [
    "ar=np.array([[2,4,5],[7,8,9],[4,5,6]])\n",
    "newar=np.array([[3,7,9]])\n",
    "print(\"Original array:\")\n",
    "print(ar)\n",
    "print()\n",
    "ar3=np.delete(ar,1,axis=1)\n",
    "print(\"Deleting second column:\")\n",
    "print(ar3)\n",
    "print()\n",
    "ar4=np.insert(ar3,1,newar,axis=1)\n",
    "print(\"Inserting new column:\")\n",
    "print(ar4)\n",
    "print()\n"
   ]
  },
  {
   "cell_type": "markdown",
   "id": "02a03124",
   "metadata": {},
   "source": [
    "\n",
    "## Excercise 4"
   ]
  },
  {
   "cell_type": "markdown",
   "id": "2438132d",
   "metadata": {},
   "source": [
    "### Sort following NumPy array\n",
    "**Case 1: Sort array by the second row.**\n",
    "\n",
    "**Case 2: Sort the array by the second column.**\n",
    "\n"
   ]
  },
  {
   "cell_type": "code",
   "execution_count": 8,
   "id": "c68855d3",
   "metadata": {},
   "outputs": [
    {
     "name": "stdout",
     "output_type": "stream",
     "text": [
      "[[34 43 73]\n",
      " [82 22 12]\n",
      " [53 94 66]]\n",
      "Sorted by the second row:\n",
      "[[73 43 34]\n",
      " [12 22 82]\n",
      " [66 94 53]]\n",
      "Sorted by the second column:\n",
      "[[82 22 12]\n",
      " [34 43 73]\n",
      " [53 94 66]]\n"
     ]
    }
   ],
   "source": [
    "import numpy as np\n",
    "ar=np.array([[34,43,73],[82,22,12],[53,94,66]])\n",
    "\n",
    "print(ar)\n",
    "\n",
    "\n",
    "sorted_array = ar[:,ar[1, :].argsort()] # Sort by the second row\n",
    "\n",
    "print(\"Sorted by the second row:\")\n",
    "print(sorted_array)\n",
    "\n",
    "sorted_array = ar[ar[:, 1].argsort()] # Sort by the second column\n",
    "\n",
    "print(\"Sorted by the second column:\")\n",
    "print(sorted_array)\n",
    "\n"
   ]
  },
  {
   "cell_type": "markdown",
   "id": "daba2b3d",
   "metadata": {},
   "source": [
    "## Exercise 5"
   ]
  },
  {
   "cell_type": "markdown",
   "id": "4bc67ada",
   "metadata": {},
   "source": [
    "**In the following array, negate all elements which are between 3 and 8, in place.\n",
    "Z = [2 3 6 7 9 8 4 7 9 2 1 0 4]**"
   ]
  },
  {
   "cell_type": "code",
   "execution_count": 13,
   "id": "4bf5832d",
   "metadata": {},
   "outputs": [
    {
     "name": "stdout",
     "output_type": "stream",
     "text": [
      "[ 2 -3 -6 -7  9  8 -4 -7  9  2  1  0 -4]\n"
     ]
    }
   ],
   "source": [
    "import numpy as np\n",
    "\n",
    "Z = np.array([2, 3, 6, 7, 9, 8, 4, 7, 9, 2, 1, 0, 4])\n",
    "index = np.where((Z>2) & (Z<8))\n",
    "Z[index] *= -1\n",
    "print(Z)"
   ]
  },
  {
   "cell_type": "code",
   "execution_count": null,
   "id": "65bed884",
   "metadata": {},
   "outputs": [],
   "source": []
  }
 ],
 "metadata": {
  "kernelspec": {
   "display_name": "Python 3 (ipykernel)",
   "language": "python",
   "name": "python3"
  },
  "language_info": {
   "codemirror_mode": {
    "name": "ipython",
    "version": 3
   },
   "file_extension": ".py",
   "mimetype": "text/x-python",
   "name": "python",
   "nbconvert_exporter": "python",
   "pygments_lexer": "ipython3",
   "version": "3.11.4"
  }
 },
 "nbformat": 4,
 "nbformat_minor": 5
}
